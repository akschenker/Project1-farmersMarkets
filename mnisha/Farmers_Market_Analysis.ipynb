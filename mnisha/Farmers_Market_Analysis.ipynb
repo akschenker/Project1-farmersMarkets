{
 "cells": [
  {
   "cell_type": "code",
   "execution_count": 19,
   "metadata": {},
   "outputs": [],
   "source": [
    "import pandas as pd\n",
    "import numpy as np\n",
    "import matplotlib.pyplot as plt\n",
    "import requests\n",
    "from census import Census\n",
    "from us import states\n",
    "\n",
    "# Census API Key\n",
    "from config import gkey, yelp_key, census_key\n",
    "c = Census(census_key, year=2013)"
   ]
  },
  {
   "cell_type": "code",
   "execution_count": 20,
   "metadata": {},
   "outputs": [
    {
     "data": {
      "text/plain": [
       "Index(['Unnamed: 0', 'MarketName', 'city', 'County', 'State', 'zip',\n",
       "       'Season1Date', 'Season1Time', 'Season2Date', 'Season2Time',\n",
       "       'Season3Date', 'Season3Time', 'Season4Date', 'Season4Time', 'Longitude',\n",
       "       'Latitude', 'Credit', 'WIC', 'WICcash', 'SFMNP', 'SNAP', 'Organic',\n",
       "       'Bakedgoods', 'Cheese', 'Crafts', 'Flowers', 'Eggs', 'Seafood', 'Herbs',\n",
       "       'Vegetables', 'Honey', 'Jams', 'Maple', 'Meat', 'Nursery', 'Nuts',\n",
       "       'Plants', 'Poultry', 'Prepared', 'Soap', 'Trees', 'Wine', 'Coffee',\n",
       "       'Beans', 'Fruits', 'Grains', 'Juices', 'Mushrooms', 'PetFood', 'Tofu',\n",
       "       'WildHarvested', 'updateTime', 'Region', 'Median Age', 'Population',\n",
       "       'Poverty Count', 'Household Income', 'Per Capita Income',\n",
       "       'Yelp Results', 'Yelp Price', 'Yelp Rating'],\n",
       "      dtype='object')"
      ]
     },
     "execution_count": 20,
     "metadata": {},
     "output_type": "execute_result"
    }
   ],
   "source": [
    "farm_markets = pd.read_csv(\"CleanFM.csv\")\n",
    "\n",
    "farm_markets.columns"
   ]
  },
  {
   "cell_type": "code",
   "execution_count": 21,
   "metadata": {},
   "outputs": [
    {
     "data": {
      "text/html": [
       "<div>\n",
       "<style scoped>\n",
       "    .dataframe tbody tr th:only-of-type {\n",
       "        vertical-align: middle;\n",
       "    }\n",
       "\n",
       "    .dataframe tbody tr th {\n",
       "        vertical-align: top;\n",
       "    }\n",
       "\n",
       "    .dataframe thead th {\n",
       "        text-align: right;\n",
       "    }\n",
       "</style>\n",
       "<table border=\"1\" class=\"dataframe\">\n",
       "  <thead>\n",
       "    <tr style=\"text-align: right;\">\n",
       "      <th></th>\n",
       "      <th>Unnamed: 0</th>\n",
       "      <th>MarketName</th>\n",
       "      <th>city</th>\n",
       "      <th>County</th>\n",
       "      <th>State</th>\n",
       "      <th>zip</th>\n",
       "      <th>Season1Date</th>\n",
       "      <th>Season1Time</th>\n",
       "      <th>Season2Date</th>\n",
       "      <th>Season2Time</th>\n",
       "      <th>...</th>\n",
       "      <th>updateTime</th>\n",
       "      <th>Region</th>\n",
       "      <th>Median Age</th>\n",
       "      <th>Population</th>\n",
       "      <th>Poverty Count</th>\n",
       "      <th>Household Income</th>\n",
       "      <th>Per Capita Income</th>\n",
       "      <th>Yelp Results</th>\n",
       "      <th>Yelp Price</th>\n",
       "      <th>Yelp Rating</th>\n",
       "    </tr>\n",
       "  </thead>\n",
       "  <tbody>\n",
       "    <tr>\n",
       "      <th>0</th>\n",
       "      <td>0</td>\n",
       "      <td>Caledonia Farmers Market Association - Danville</td>\n",
       "      <td>Danville</td>\n",
       "      <td>Caledonia</td>\n",
       "      <td>Vermont</td>\n",
       "      <td>05828</td>\n",
       "      <td>06/14/2017 to 08/30/2017</td>\n",
       "      <td>Wed: 9:00 AM-1:00 PM;</td>\n",
       "      <td>09/06/2017 to 10/18/2017</td>\n",
       "      <td>Wed: 2:00 PM-6:00 PM;</td>\n",
       "      <td>...</td>\n",
       "      <td>6/20/2017 10:43:57 PM</td>\n",
       "      <td>Northeast</td>\n",
       "      <td>51.2</td>\n",
       "      <td>2011.0</td>\n",
       "      <td>186.0</td>\n",
       "      <td>52292.0</td>\n",
       "      <td>29717.0</td>\n",
       "      <td>NaN</td>\n",
       "      <td>NaN</td>\n",
       "      <td>NaN</td>\n",
       "    </tr>\n",
       "    <tr>\n",
       "      <th>1</th>\n",
       "      <td>1</td>\n",
       "      <td>Barre Farmers Market</td>\n",
       "      <td>Barre</td>\n",
       "      <td>Washington</td>\n",
       "      <td>Vermont</td>\n",
       "      <td>05641</td>\n",
       "      <td>05/31/2017 to 10/04/2017</td>\n",
       "      <td>Wed: 4:00 PM-7:30 PM;</td>\n",
       "      <td>NaN</td>\n",
       "      <td>NaN</td>\n",
       "      <td>...</td>\n",
       "      <td>7/4/2017 10:33:01 AM</td>\n",
       "      <td>Northeast</td>\n",
       "      <td>42.6</td>\n",
       "      <td>17298.0</td>\n",
       "      <td>1848.0</td>\n",
       "      <td>49077.0</td>\n",
       "      <td>27985.0</td>\n",
       "      <td>NaN</td>\n",
       "      <td>NaN</td>\n",
       "      <td>NaN</td>\n",
       "    </tr>\n",
       "    <tr>\n",
       "      <th>2</th>\n",
       "      <td>2</td>\n",
       "      <td>Bethel Farmers Market</td>\n",
       "      <td>Bethel</td>\n",
       "      <td>Windsor</td>\n",
       "      <td>Vermont</td>\n",
       "      <td>05089</td>\n",
       "      <td>NaN</td>\n",
       "      <td>NaN</td>\n",
       "      <td>NaN</td>\n",
       "      <td>NaN</td>\n",
       "      <td>...</td>\n",
       "      <td>2009</td>\n",
       "      <td>Northeast</td>\n",
       "      <td>46.2</td>\n",
       "      <td>4974.0</td>\n",
       "      <td>565.0</td>\n",
       "      <td>46097.0</td>\n",
       "      <td>27084.0</td>\n",
       "      <td>NaN</td>\n",
       "      <td>NaN</td>\n",
       "      <td>NaN</td>\n",
       "    </tr>\n",
       "    <tr>\n",
       "      <th>3</th>\n",
       "      <td>3</td>\n",
       "      <td>Bradford Farmers Market</td>\n",
       "      <td>Bradford</td>\n",
       "      <td>Orange</td>\n",
       "      <td>Vermont</td>\n",
       "      <td>05033</td>\n",
       "      <td>05/18/2014 to 10/19/2014</td>\n",
       "      <td>Sun: 10:00 AM-2:00 PM;</td>\n",
       "      <td>NaN</td>\n",
       "      <td>NaN</td>\n",
       "      <td>...</td>\n",
       "      <td>4/9/2014 10:03:26 AM</td>\n",
       "      <td>Northeast</td>\n",
       "      <td>40.3</td>\n",
       "      <td>2729.0</td>\n",
       "      <td>547.0</td>\n",
       "      <td>43021.0</td>\n",
       "      <td>23173.0</td>\n",
       "      <td>NaN</td>\n",
       "      <td>NaN</td>\n",
       "      <td>NaN</td>\n",
       "    </tr>\n",
       "    <tr>\n",
       "      <th>4</th>\n",
       "      <td>4</td>\n",
       "      <td>Brandon Farmers Market</td>\n",
       "      <td>Brandon</td>\n",
       "      <td>Rutland</td>\n",
       "      <td>Vermont</td>\n",
       "      <td>05733</td>\n",
       "      <td>05/22/2015 to 10/09/2015</td>\n",
       "      <td>Fri: 9:00 AM-2:00 PM;</td>\n",
       "      <td>NaN</td>\n",
       "      <td>NaN</td>\n",
       "      <td>...</td>\n",
       "      <td>4/23/2015 3:34:19 PM</td>\n",
       "      <td>Northeast</td>\n",
       "      <td>47.7</td>\n",
       "      <td>5799.0</td>\n",
       "      <td>580.0</td>\n",
       "      <td>53504.0</td>\n",
       "      <td>26931.0</td>\n",
       "      <td>NaN</td>\n",
       "      <td>NaN</td>\n",
       "      <td>NaN</td>\n",
       "    </tr>\n",
       "  </tbody>\n",
       "</table>\n",
       "<p>5 rows × 61 columns</p>\n",
       "</div>"
      ],
      "text/plain": [
       "   Unnamed: 0                                        MarketName      city  \\\n",
       "0           0   Caledonia Farmers Market Association - Danville  Danville   \n",
       "1           1                              Barre Farmers Market     Barre   \n",
       "2           2                             Bethel Farmers Market    Bethel   \n",
       "3           3                           Bradford Farmers Market  Bradford   \n",
       "4           4                            Brandon Farmers Market   Brandon   \n",
       "\n",
       "       County    State    zip               Season1Date  \\\n",
       "0   Caledonia  Vermont  05828  06/14/2017 to 08/30/2017   \n",
       "1  Washington  Vermont  05641  05/31/2017 to 10/04/2017   \n",
       "2     Windsor  Vermont  05089                       NaN   \n",
       "3      Orange  Vermont  05033  05/18/2014 to 10/19/2014   \n",
       "4     Rutland  Vermont  05733  05/22/2015 to 10/09/2015   \n",
       "\n",
       "              Season1Time               Season2Date            Season2Time  \\\n",
       "0   Wed: 9:00 AM-1:00 PM;  09/06/2017 to 10/18/2017  Wed: 2:00 PM-6:00 PM;   \n",
       "1   Wed: 4:00 PM-7:30 PM;                       NaN                    NaN   \n",
       "2                     NaN                       NaN                    NaN   \n",
       "3  Sun: 10:00 AM-2:00 PM;                       NaN                    NaN   \n",
       "4   Fri: 9:00 AM-2:00 PM;                       NaN                    NaN   \n",
       "\n",
       "      ...                 updateTime     Region Median Age Population  \\\n",
       "0     ...      6/20/2017 10:43:57 PM  Northeast       51.2     2011.0   \n",
       "1     ...       7/4/2017 10:33:01 AM  Northeast       42.6    17298.0   \n",
       "2     ...                       2009  Northeast       46.2     4974.0   \n",
       "3     ...       4/9/2014 10:03:26 AM  Northeast       40.3     2729.0   \n",
       "4     ...       4/23/2015 3:34:19 PM  Northeast       47.7     5799.0   \n",
       "\n",
       "   Poverty Count  Household Income Per Capita Income Yelp Results Yelp Price  \\\n",
       "0          186.0           52292.0           29717.0          NaN        NaN   \n",
       "1         1848.0           49077.0           27985.0          NaN        NaN   \n",
       "2          565.0           46097.0           27084.0          NaN        NaN   \n",
       "3          547.0           43021.0           23173.0          NaN        NaN   \n",
       "4          580.0           53504.0           26931.0          NaN        NaN   \n",
       "\n",
       "  Yelp Rating  \n",
       "0         NaN  \n",
       "1         NaN  \n",
       "2         NaN  \n",
       "3         NaN  \n",
       "4         NaN  \n",
       "\n",
       "[5 rows x 61 columns]"
      ]
     },
     "execution_count": 21,
     "metadata": {},
     "output_type": "execute_result"
    }
   ],
   "source": [
    "\n",
    "farm_markets_visual = farm_markets.copy()\n",
    "farm_markets_visual.head()"
   ]
  },
  {
   "cell_type": "code",
   "execution_count": 22,
   "metadata": {},
   "outputs": [
    {
     "data": {
      "text/plain": [
       "3"
      ]
     },
     "execution_count": 22,
     "metadata": {},
     "output_type": "execute_result"
    }
   ],
   "source": [
    "farm_markets_visual[\"Organic\"].nunique()"
   ]
  },
  {
   "cell_type": "code",
   "execution_count": 23,
   "metadata": {},
   "outputs": [
    {
     "data": {
      "text/plain": [
       "-    5012\n",
       "Y    2372\n",
       "N    1317\n",
       "Name: Organic, dtype: int64"
      ]
     },
     "execution_count": 23,
     "metadata": {},
     "output_type": "execute_result"
    }
   ],
   "source": [
    "farm_markets_visual[\"Organic\"].value_counts()"
   ]
  },
  {
   "cell_type": "code",
   "execution_count": 24,
   "metadata": {},
   "outputs": [],
   "source": [
    "bins = [0, 60000, 150000, 500000]\n",
    "\n",
    "# Create the names for the four bins\n",
    "group_names = [\"Low Income\", \"Medium Income\", \"High Income\"]\n",
    "\n",
    "farm_markets_visual[\"Income Group\"] = pd.cut(farm_markets_visual[\"Household Income\"], bins, labels=group_names)\n",
    "#farm_markets_visual \n",
    "\n",
    "#market_by_income = farm_markets_visual.groupby[\"Income Group\"][\"Organic\"].count()"
   ]
  },
  {
   "cell_type": "code",
   "execution_count": 25,
   "metadata": {},
   "outputs": [],
   "source": [
    "income_byzip = farm_markets_visual.groupby([\"zip\"])[\"Household Income\"].mean().reset_index(name=\"income\")\n",
    "income_byzip = income_byzip.set_index(\"zip\")\n",
    "income_byzip1= income_byzip[\"income\"]"
   ]
  },
  {
   "cell_type": "code",
   "execution_count": 26,
   "metadata": {},
   "outputs": [
    {
     "data": {
      "text/html": [
       "<div>\n",
       "<style scoped>\n",
       "    .dataframe tbody tr th:only-of-type {\n",
       "        vertical-align: middle;\n",
       "    }\n",
       "\n",
       "    .dataframe tbody tr th {\n",
       "        vertical-align: top;\n",
       "    }\n",
       "\n",
       "    .dataframe thead th {\n",
       "        text-align: right;\n",
       "    }\n",
       "</style>\n",
       "<table border=\"1\" class=\"dataframe\">\n",
       "  <thead>\n",
       "    <tr style=\"text-align: right;\">\n",
       "      <th></th>\n",
       "      <th>income</th>\n",
       "    </tr>\n",
       "    <tr>\n",
       "      <th>zip</th>\n",
       "      <th></th>\n",
       "    </tr>\n",
       "  </thead>\n",
       "  <tbody>\n",
       "    <tr>\n",
       "      <th>00000</th>\n",
       "      <td>NaN</td>\n",
       "    </tr>\n",
       "    <tr>\n",
       "      <th>00601</th>\n",
       "      <td>12041.0</td>\n",
       "    </tr>\n",
       "    <tr>\n",
       "      <th>00603</th>\n",
       "      <td>15485.0</td>\n",
       "    </tr>\n",
       "    <tr>\n",
       "      <th>00606</th>\n",
       "      <td>15019.0</td>\n",
       "    </tr>\n",
       "    <tr>\n",
       "      <th>00610</th>\n",
       "      <td>16707.0</td>\n",
       "    </tr>\n",
       "  </tbody>\n",
       "</table>\n",
       "</div>"
      ],
      "text/plain": [
       "        income\n",
       "zip           \n",
       "00000      NaN\n",
       "00601  12041.0\n",
       "00603  15485.0\n",
       "00606  15019.0\n",
       "00610  16707.0"
      ]
     },
     "execution_count": 26,
     "metadata": {},
     "output_type": "execute_result"
    }
   ],
   "source": [
    "income_byzip.head(5)"
   ]
  },
  {
   "cell_type": "code",
   "execution_count": 27,
   "metadata": {},
   "outputs": [],
   "source": [
    "marketcount_byzip=farm_markets_visual.groupby([\"zip\"])[\"MarketName\"].count().reset_index(name=\"market_count\")\n",
    "marketcount_byzip = marketcount_byzip.set_index(\"zip\")\n",
    "marketcount1=marketcount_byzip[\"market_count\"]"
   ]
  },
  {
   "cell_type": "code",
   "execution_count": 28,
   "metadata": {},
   "outputs": [
    {
     "data": {
      "text/html": [
       "<div>\n",
       "<style scoped>\n",
       "    .dataframe tbody tr th:only-of-type {\n",
       "        vertical-align: middle;\n",
       "    }\n",
       "\n",
       "    .dataframe tbody tr th {\n",
       "        vertical-align: top;\n",
       "    }\n",
       "\n",
       "    .dataframe thead th {\n",
       "        text-align: right;\n",
       "    }\n",
       "</style>\n",
       "<table border=\"1\" class=\"dataframe\">\n",
       "  <thead>\n",
       "    <tr style=\"text-align: right;\">\n",
       "      <th></th>\n",
       "      <th>market_count</th>\n",
       "    </tr>\n",
       "    <tr>\n",
       "      <th>zip</th>\n",
       "      <th></th>\n",
       "    </tr>\n",
       "  </thead>\n",
       "  <tbody>\n",
       "    <tr>\n",
       "      <th>00000</th>\n",
       "      <td>1</td>\n",
       "    </tr>\n",
       "    <tr>\n",
       "      <th>00601</th>\n",
       "      <td>2</td>\n",
       "    </tr>\n",
       "    <tr>\n",
       "      <th>00603</th>\n",
       "      <td>1</td>\n",
       "    </tr>\n",
       "    <tr>\n",
       "      <th>00606</th>\n",
       "      <td>1</td>\n",
       "    </tr>\n",
       "    <tr>\n",
       "      <th>00610</th>\n",
       "      <td>1</td>\n",
       "    </tr>\n",
       "  </tbody>\n",
       "</table>\n",
       "</div>"
      ],
      "text/plain": [
       "       market_count\n",
       "zip                \n",
       "00000             1\n",
       "00601             2\n",
       "00603             1\n",
       "00606             1\n",
       "00610             1"
      ]
     },
     "execution_count": 28,
     "metadata": {},
     "output_type": "execute_result"
    }
   ],
   "source": [
    "marketcount_byzip.head(5)"
   ]
  },
  {
   "cell_type": "code",
   "execution_count": 29,
   "metadata": {},
   "outputs": [
    {
     "data": {
      "image/png": "[encoded data removed]",
      "text/plain": [
       "<Figure size 432x288 with 1 Axes>"
      ]
     },
     "metadata": {},
     "output_type": "display_data"
    }
   ],
   "source": [
    "\n",
    "#plt.style.use('seaborn')\n",
    "plt.scatter(income_byzip1, marketcount1, marker=\"o\", facecolors=\"blue\", edgecolors=\"black\",\n",
    "            alpha=0.75,label=\"MarketbyIncome\")\n",
    "# Place a legend on the chart in what matplotlib believes to be the \"best\" location 'bmh'\n",
    "#plt.legend(loc=\"best\",title=\"City Type\")\n",
    "\n",
    "plt.title(\"Number of markets by Income per zip\")\n",
    "plt.xlabel(\"Average Income by zip\")\n",
    "plt.ylabel(\"Number of Farmers Market by zip\")\n",
    "\n",
    "plt.grid(b=None,which='major',axis='both',color='grey')\n",
    "\n",
    "#plt.savefig(\"MarketByIncome.png\")\n",
    "# Print our chart to the screen\n",
    "plt.show()"
   ]
  },
  {
   "cell_type": "code",
   "execution_count": 30,
   "metadata": {},
   "outputs": [],
   "source": [
    "population_byzip=farm_markets_visual.groupby([\"zip\"])[\"Population\"].sum()\n",
    "population_byzip_df= pd.DataFrame(population_byzip)\n",
    "#population_byzip_df"
   ]
  },
  {
   "cell_type": "code",
   "execution_count": 31,
   "metadata": {},
   "outputs": [
    {
     "data": {
      "image/png": "[encoded data removed]",
      "text/plain": [
       "<Figure size 432x288 with 1 Axes>"
      ]
     },
     "metadata": {},
     "output_type": "display_data"
    }
   ],
   "source": [
    "#plt.style.use('seaborn')\n",
    "plt.scatter(population_byzip, marketcount1, marker=\"o\", facecolors=\"blue\", edgecolors=\"black\",\n",
    "            alpha=0.75,label=\"MarketbyPopulation\")\n",
    "# Place a legend on the chart in what matplotlib believes to be the \"best\" location\n",
    "#plt.legend(loc=\"best\",title=\"City Type\")\n",
    "\n",
    "plt.title(\"Number of markets by Population per zip\")\n",
    "plt.xlabel(\"Average Income by zip\")\n",
    "plt.ylabel(\"Number of Farmers Market by zip\")\n",
    "\n",
    "plt.grid(b=None,which='major',axis='both',color='grey')\n",
    "#plt.savefig(\"MarketByPopulation.png\")\n",
    "# Print our chart to the screen\n",
    "plt.show()"
   ]
  },
  {
   "cell_type": "code",
   "execution_count": 32,
   "metadata": {},
   "outputs": [],
   "source": [
    "# Create the names for the four bins\n",
    "bins = [0, 40000, 70000, 500000]\n",
    "group_names = [\"Low Income\", \"Medium Income\", \"High Income\"]"
   ]
  },
  {
   "cell_type": "code",
   "execution_count": 33,
   "metadata": {},
   "outputs": [],
   "source": [
    "farm_markets_visual[\"Income Group\"] = pd.cut(farm_markets_visual[\"Household Income\"], bins, labels=group_names)\n",
    "#farm_markets_visual "
   ]
  },
  {
   "cell_type": "code",
   "execution_count": 34,
   "metadata": {},
   "outputs": [],
   "source": [
    "market_byincome=farm_markets_visual.groupby([\"Income Group\"])[\"MarketName\"].count()\n",
    "market_byincome_df= pd.DataFrame(market_byincome)"
   ]
  },
  {
   "cell_type": "code",
   "execution_count": 35,
   "metadata": {},
   "outputs": [
    {
     "data": {
      "text/html": [
       "<div>\n",
       "<style scoped>\n",
       "    .dataframe tbody tr th:only-of-type {\n",
       "        vertical-align: middle;\n",
       "    }\n",
       "\n",
       "    .dataframe tbody tr th {\n",
       "        vertical-align: top;\n",
       "    }\n",
       "\n",
       "    .dataframe thead th {\n",
       "        text-align: right;\n",
       "    }\n",
       "</style>\n",
       "<table border=\"1\" class=\"dataframe\">\n",
       "  <thead>\n",
       "    <tr style=\"text-align: right;\">\n",
       "      <th></th>\n",
       "      <th>MarketName</th>\n",
       "    </tr>\n",
       "    <tr>\n",
       "      <th>Income Group</th>\n",
       "      <th></th>\n",
       "    </tr>\n",
       "  </thead>\n",
       "  <tbody>\n",
       "    <tr>\n",
       "      <th>Low Income</th>\n",
       "      <td>2188</td>\n",
       "    </tr>\n",
       "    <tr>\n",
       "      <th>Medium Income</th>\n",
       "      <td>4539</td>\n",
       "    </tr>\n",
       "    <tr>\n",
       "      <th>High Income</th>\n",
       "      <td>1726</td>\n",
       "    </tr>\n",
       "  </tbody>\n",
       "</table>\n",
       "</div>"
      ],
      "text/plain": [
       "               MarketName\n",
       "Income Group             \n",
       "Low Income           2188\n",
       "Medium Income        4539\n",
       "High Income          1726"
      ]
     },
     "execution_count": 35,
     "metadata": {},
     "output_type": "execute_result"
    }
   ],
   "source": [
    "market_byincome_df"
   ]
  },
  {
   "cell_type": "code",
   "execution_count": 36,
   "metadata": {},
   "outputs": [],
   "source": [
    "farm_markets_visual[\"Organic\"] = farm_markets_visual[\"Organic\"].replace(r'-', 'Z', regex=True)"
   ]
  },
  {
   "cell_type": "code",
   "execution_count": 37,
   "metadata": {},
   "outputs": [
    {
     "data": {
      "text/plain": [
       "3"
      ]
     },
     "execution_count": 37,
     "metadata": {},
     "output_type": "execute_result"
    }
   ],
   "source": [
    "farm_markets_visual[\"Organic\"].nunique()"
   ]
  },
  {
   "cell_type": "code",
   "execution_count": 38,
   "metadata": {},
   "outputs": [
    {
     "data": {
      "text/plain": [
       "count      8453.000000\n",
       "mean      54949.009582\n",
       "std       23265.605622\n",
       "min        3404.000000\n",
       "25%       39660.000000\n",
       "50%       49466.000000\n",
       "75%       65287.000000\n",
       "max      216037.000000\n",
       "Name: Household Income, dtype: float64"
      ]
     },
     "execution_count": 38,
     "metadata": {},
     "output_type": "execute_result"
    }
   ],
   "source": [
    "farm_markets_visual[\"Household Income\"].describe()"
   ]
  },
  {
   "cell_type": "code",
   "execution_count": 39,
   "metadata": {},
   "outputs": [
    {
     "data": {
      "text/html": [
       "<div>\n",
       "<style scoped>\n",
       "    .dataframe tbody tr th:only-of-type {\n",
       "        vertical-align: middle;\n",
       "    }\n",
       "\n",
       "    .dataframe tbody tr th {\n",
       "        vertical-align: top;\n",
       "    }\n",
       "\n",
       "    .dataframe thead th {\n",
       "        text-align: right;\n",
       "    }\n",
       "</style>\n",
       "<table border=\"1\" class=\"dataframe\">\n",
       "  <thead>\n",
       "    <tr style=\"text-align: right;\">\n",
       "      <th></th>\n",
       "      <th>Income Group</th>\n",
       "      <th>Organic</th>\n",
       "      <th>market_count</th>\n",
       "    </tr>\n",
       "  </thead>\n",
       "  <tbody>\n",
       "    <tr>\n",
       "      <th>0</th>\n",
       "      <td>Low Income</td>\n",
       "      <td>N</td>\n",
       "      <td>409</td>\n",
       "    </tr>\n",
       "    <tr>\n",
       "      <th>1</th>\n",
       "      <td>Low Income</td>\n",
       "      <td>Y</td>\n",
       "      <td>465</td>\n",
       "    </tr>\n",
       "    <tr>\n",
       "      <th>2</th>\n",
       "      <td>Low Income</td>\n",
       "      <td>Z</td>\n",
       "      <td>1314</td>\n",
       "    </tr>\n",
       "    <tr>\n",
       "      <th>3</th>\n",
       "      <td>Medium Income</td>\n",
       "      <td>N</td>\n",
       "      <td>646</td>\n",
       "    </tr>\n",
       "    <tr>\n",
       "      <th>4</th>\n",
       "      <td>Medium Income</td>\n",
       "      <td>Y</td>\n",
       "      <td>1167</td>\n",
       "    </tr>\n",
       "    <tr>\n",
       "      <th>5</th>\n",
       "      <td>Medium Income</td>\n",
       "      <td>Z</td>\n",
       "      <td>2726</td>\n",
       "    </tr>\n",
       "    <tr>\n",
       "      <th>6</th>\n",
       "      <td>High Income</td>\n",
       "      <td>N</td>\n",
       "      <td>232</td>\n",
       "    </tr>\n",
       "    <tr>\n",
       "      <th>7</th>\n",
       "      <td>High Income</td>\n",
       "      <td>Y</td>\n",
       "      <td>667</td>\n",
       "    </tr>\n",
       "    <tr>\n",
       "      <th>8</th>\n",
       "      <td>High Income</td>\n",
       "      <td>Z</td>\n",
       "      <td>827</td>\n",
       "    </tr>\n",
       "  </tbody>\n",
       "</table>\n",
       "</div>"
      ],
      "text/plain": [
       "    Income Group Organic  market_count\n",
       "0     Low Income       N           409\n",
       "1     Low Income       Y           465\n",
       "2     Low Income       Z          1314\n",
       "3  Medium Income       N           646\n",
       "4  Medium Income       Y          1167\n",
       "5  Medium Income       Z          2726\n",
       "6    High Income       N           232\n",
       "7    High Income       Y           667\n",
       "8    High Income       Z           827"
      ]
     },
     "execution_count": 39,
     "metadata": {},
     "output_type": "execute_result"
    }
   ],
   "source": [
    "market_by_income_df2 = farm_markets_visual.groupby([\"Income Group\",\"Organic\"])[\"MarketName\"].count().reset_index(name=\"market_count\")\n",
    "market_by_income_df2"
   ]
  },
  {
   "cell_type": "code",
   "execution_count": 47,
   "metadata": {},
   "outputs": [],
   "source": [
    "#market_by_income_df3=market_by_income_df2.loc[market_by_income_df2[\"Income Group\"]==\"Low Income\"]\n",
    "#low_group=market_by_income_df3[\"market_count\"]\n",
    "#low_group\n",
    "\n",
    "#market_by_income_df4=market_by_income_df2.loc[market_by_income_df2[\"Income Group\"]==\"Medium Income\"]\n",
    "#med_group=market_by_income_df4[\"market_count\"]\n",
    "#med_group\n",
    "\n",
    "#market_by_income_df5=market_by_income_df2.loc[market_by_income_df2[\"Income Group\"]==\"High Income\"]\n",
    "#high_group=market_by_income_df5[\"market_count\"]\n",
    "#high_group\n",
    "\n",
    "market_by_income_df3=market_by_income_df2.loc[market_by_income_df2[\"Organic\"]==\"Y\"]\n",
    "organic_group=market_by_income_df3[\"market_count\"]\n",
    "organic_group\n",
    "\n",
    "market_by_income_df4=market_by_income_df2.loc[market_by_income_df2[\"Organic\"]==\"N\"]\n",
    "nonorganic_group=market_by_income_df4[\"market_count\"]\n",
    "#nonorganic_group\n",
    "\n",
    "market_by_income_df5=market_by_income_df2.loc[market_by_income_df2[\"Organic\"]==\"Z\"]\n",
    "unknown_group=market_by_income_df5[\"market_count\"]\n",
    "#unknown_group"
   ]
  },
  {
   "cell_type": "code",
   "execution_count": 49,
   "metadata": {},
   "outputs": [
    {
     "data": {
      "text/html": [
       "<div>\n",
       "<style scoped>\n",
       "    .dataframe tbody tr th:only-of-type {\n",
       "        vertical-align: middle;\n",
       "    }\n",
       "\n",
       "    .dataframe tbody tr th {\n",
       "        vertical-align: top;\n",
       "    }\n",
       "\n",
       "    .dataframe thead th {\n",
       "        text-align: right;\n",
       "    }\n",
       "</style>\n",
       "<table border=\"1\" class=\"dataframe\">\n",
       "  <thead>\n",
       "    <tr style=\"text-align: right;\">\n",
       "      <th></th>\n",
       "      <th>Income Group</th>\n",
       "      <th>Organic</th>\n",
       "      <th>market_count</th>\n",
       "    </tr>\n",
       "  </thead>\n",
       "  <tbody>\n",
       "    <tr>\n",
       "      <th>0</th>\n",
       "      <td>Low Income</td>\n",
       "      <td>N</td>\n",
       "      <td>409</td>\n",
       "    </tr>\n",
       "    <tr>\n",
       "      <th>1</th>\n",
       "      <td>Low Income</td>\n",
       "      <td>Y</td>\n",
       "      <td>465</td>\n",
       "    </tr>\n",
       "    <tr>\n",
       "      <th>2</th>\n",
       "      <td>Low Income</td>\n",
       "      <td>Z</td>\n",
       "      <td>1314</td>\n",
       "    </tr>\n",
       "    <tr>\n",
       "      <th>3</th>\n",
       "      <td>Medium Income</td>\n",
       "      <td>N</td>\n",
       "      <td>646</td>\n",
       "    </tr>\n",
       "    <tr>\n",
       "      <th>4</th>\n",
       "      <td>Medium Income</td>\n",
       "      <td>Y</td>\n",
       "      <td>1167</td>\n",
       "    </tr>\n",
       "    <tr>\n",
       "      <th>5</th>\n",
       "      <td>Medium Income</td>\n",
       "      <td>Z</td>\n",
       "      <td>2726</td>\n",
       "    </tr>\n",
       "    <tr>\n",
       "      <th>6</th>\n",
       "      <td>High Income</td>\n",
       "      <td>N</td>\n",
       "      <td>232</td>\n",
       "    </tr>\n",
       "    <tr>\n",
       "      <th>7</th>\n",
       "      <td>High Income</td>\n",
       "      <td>Y</td>\n",
       "      <td>667</td>\n",
       "    </tr>\n",
       "    <tr>\n",
       "      <th>8</th>\n",
       "      <td>High Income</td>\n",
       "      <td>Z</td>\n",
       "      <td>827</td>\n",
       "    </tr>\n",
       "  </tbody>\n",
       "</table>\n",
       "</div>"
      ],
      "text/plain": [
       "    Income Group Organic  market_count\n",
       "0     Low Income       N           409\n",
       "1     Low Income       Y           465\n",
       "2     Low Income       Z          1314\n",
       "3  Medium Income       N           646\n",
       "4  Medium Income       Y          1167\n",
       "5  Medium Income       Z          2726\n",
       "6    High Income       N           232\n",
       "7    High Income       Y           667\n",
       "8    High Income       Z           827"
      ]
     },
     "execution_count": 49,
     "metadata": {},
     "output_type": "execute_result"
    }
   ],
   "source": [
    "market_by_income_df2"
   ]
  },
  {
   "cell_type": "code",
   "execution_count": 41,
   "metadata": {},
   "outputs": [],
   "source": [
    "# set width of bar\n",
    "barWidth = 0.25\n",
    "\n",
    "# set height of bar\n",
    "market1 = [x1 for x1 in nonorganic_group]\n",
    "market2 = [x2 for x2 in organic_group]\n",
    "market3 = [x3 for x3 in unknown_group]\n",
    "\n",
    "# Set position of bar on X axis\n",
    "r1 = np.arange(len(market1))\n",
    "r2 = [x + barWidth for x in r1]\n",
    "r3 = [x + barWidth for x in r2]\n"
   ]
  },
  {
   "cell_type": "code",
   "execution_count": 42,
   "metadata": {},
   "outputs": [
    {
     "data": {
      "image/png": "[encoded data removed]",
      "text/plain": [
       "<Figure size 432x288 with 1 Axes>"
      ]
     },
     "metadata": {},
     "output_type": "display_data"
    }
   ],
   "source": [
    "group = farm_markets_visual[\"Income Group\"].unique()\n",
    "\n",
    "\n",
    "#plt.legend(loc=\"best\",title=\"group\")\n",
    "# Make the plot\n",
    "plt.bar(r1, market1, color='#2d7f5e', width=barWidth, edgecolor='white', label='Non Organic')\n",
    "plt.bar(r2, market2, color='#557f2d', width=barWidth, edgecolor='white', label='Organic')\n",
    "plt.bar(r3, market3, color='#7f6d5f', width=barWidth, edgecolor='white', label='Unknown')\n",
    "\n",
    "#plt.xlabel('Income group', fontweight='bold')\n",
    "plt.legend(loc=\"best\",title=\"group\")\n",
    "\n",
    "plt.title(\"Farmers Market by Income Group and Produce Type\")\n",
    "plt.ylabel(\"Total Number of Farmers Market\")\n",
    "plt.xticks([r + barWidth for r in range(len(market1))], ['Low Income', 'Medium Income', 'High Income'])\n",
    "# Print our chart to the screen \n",
    "\n",
    "plt.savefig(\"MarketByIncomeAndProduceType.png\")\n",
    "plt.show()"
   ]
  },
  {
   "cell_type": "code",
   "execution_count": 108,
   "metadata": {},
   "outputs": [],
   "source": [
    "# Number of market vs Income Group and Payment Type"
   ]
  },
  {
   "cell_type": "code",
   "execution_count": 109,
   "metadata": {},
   "outputs": [],
   "source": [
    "farm_markets_credit=farm_markets_visual.loc[farm_markets_visual[\"Credit\"] =='Y']\n",
    "#farm_markets_credit\n"
   ]
  },
  {
   "cell_type": "code",
   "execution_count": 110,
   "metadata": {},
   "outputs": [
    {
     "data": {
      "text/html": [
       "<div>\n",
       "<style scoped>\n",
       "    .dataframe tbody tr th:only-of-type {\n",
       "        vertical-align: middle;\n",
       "    }\n",
       "\n",
       "    .dataframe tbody tr th {\n",
       "        vertical-align: top;\n",
       "    }\n",
       "\n",
       "    .dataframe thead th {\n",
       "        text-align: right;\n",
       "    }\n",
       "</style>\n",
       "<table border=\"1\" class=\"dataframe\">\n",
       "  <thead>\n",
       "    <tr style=\"text-align: right;\">\n",
       "      <th></th>\n",
       "      <th>Income Group</th>\n",
       "      <th>Credit</th>\n",
       "      <th>market_count</th>\n",
       "    </tr>\n",
       "  </thead>\n",
       "  <tbody>\n",
       "    <tr>\n",
       "      <th>0</th>\n",
       "      <td>Low Income</td>\n",
       "      <td>Y</td>\n",
       "      <td>1238</td>\n",
       "    </tr>\n",
       "    <tr>\n",
       "      <th>1</th>\n",
       "      <td>Medium Income</td>\n",
       "      <td>Y</td>\n",
       "      <td>2586</td>\n",
       "    </tr>\n",
       "    <tr>\n",
       "      <th>2</th>\n",
       "      <td>High Income</td>\n",
       "      <td>Y</td>\n",
       "      <td>1174</td>\n",
       "    </tr>\n",
       "  </tbody>\n",
       "</table>\n",
       "</div>"
      ],
      "text/plain": [
       "    Income Group Credit  market_count\n",
       "0     Low Income      Y          1238\n",
       "1  Medium Income      Y          2586\n",
       "2    High Income      Y          1174"
      ]
     },
     "execution_count": 110,
     "metadata": {},
     "output_type": "execute_result"
    }
   ],
   "source": [
    "market_by_income_df2 = farm_markets_credit.groupby([\"Income Group\",\"Credit\"])[\"MarketName\"].count().reset_index(name=\"market_count\")\n",
    "market_by_income_df2"
   ]
  },
  {
   "cell_type": "code",
   "execution_count": 111,
   "metadata": {},
   "outputs": [
    {
     "data": {
      "text/plain": [
       "0    1238\n",
       "1    2586\n",
       "2    1174\n",
       "Name: market_count, dtype: int64"
      ]
     },
     "execution_count": 111,
     "metadata": {},
     "output_type": "execute_result"
    }
   ],
   "source": [
    "credit_group=market_by_income_df2[\"market_count\"]\n",
    "credit_group"
   ]
  },
  {
   "cell_type": "code",
   "execution_count": 112,
   "metadata": {},
   "outputs": [],
   "source": [
    "farm_markets_credit=farm_markets_visual.loc[farm_markets_visual[\"WIC\"] =='Y']\n",
    "#farm_markets_credit"
   ]
  },
  {
   "cell_type": "code",
   "execution_count": 113,
   "metadata": {},
   "outputs": [
    {
     "data": {
      "text/html": [
       "<div>\n",
       "<style scoped>\n",
       "    .dataframe tbody tr th:only-of-type {\n",
       "        vertical-align: middle;\n",
       "    }\n",
       "\n",
       "    .dataframe tbody tr th {\n",
       "        vertical-align: top;\n",
       "    }\n",
       "\n",
       "    .dataframe thead th {\n",
       "        text-align: right;\n",
       "    }\n",
       "</style>\n",
       "<table border=\"1\" class=\"dataframe\">\n",
       "  <thead>\n",
       "    <tr style=\"text-align: right;\">\n",
       "      <th></th>\n",
       "      <th>Income Group</th>\n",
       "      <th>WIC</th>\n",
       "      <th>market_count</th>\n",
       "    </tr>\n",
       "  </thead>\n",
       "  <tbody>\n",
       "    <tr>\n",
       "      <th>0</th>\n",
       "      <td>Low Income</td>\n",
       "      <td>Y</td>\n",
       "      <td>649</td>\n",
       "    </tr>\n",
       "    <tr>\n",
       "      <th>1</th>\n",
       "      <td>Medium Income</td>\n",
       "      <td>Y</td>\n",
       "      <td>1372</td>\n",
       "    </tr>\n",
       "    <tr>\n",
       "      <th>2</th>\n",
       "      <td>High Income</td>\n",
       "      <td>Y</td>\n",
       "      <td>599</td>\n",
       "    </tr>\n",
       "  </tbody>\n",
       "</table>\n",
       "</div>"
      ],
      "text/plain": [
       "    Income Group WIC  market_count\n",
       "0     Low Income   Y           649\n",
       "1  Medium Income   Y          1372\n",
       "2    High Income   Y           599"
      ]
     },
     "execution_count": 113,
     "metadata": {},
     "output_type": "execute_result"
    }
   ],
   "source": [
    "market_by_income_df2 = farm_markets_credit.groupby([\"Income Group\",\"WIC\"])[\"MarketName\"].count().reset_index(name=\"market_count\")\n",
    "market_by_income_df2\n"
   ]
  },
  {
   "cell_type": "code",
   "execution_count": 114,
   "metadata": {},
   "outputs": [
    {
     "data": {
      "text/plain": [
       "0     649\n",
       "1    1372\n",
       "2     599\n",
       "Name: market_count, dtype: int64"
      ]
     },
     "execution_count": 114,
     "metadata": {},
     "output_type": "execute_result"
    }
   ],
   "source": [
    "wic_group=market_by_income_df2[\"market_count\"]\n",
    "wic_group\n"
   ]
  },
  {
   "cell_type": "code",
   "execution_count": 115,
   "metadata": {},
   "outputs": [],
   "source": [
    "farm_markets_credit=farm_markets_visual.loc[farm_markets_visual[\"SNAP\"] =='Y']"
   ]
  },
  {
   "cell_type": "code",
   "execution_count": 116,
   "metadata": {},
   "outputs": [
    {
     "data": {
      "text/html": [
       "<div>\n",
       "<style scoped>\n",
       "    .dataframe tbody tr th:only-of-type {\n",
       "        vertical-align: middle;\n",
       "    }\n",
       "\n",
       "    .dataframe tbody tr th {\n",
       "        vertical-align: top;\n",
       "    }\n",
       "\n",
       "    .dataframe thead th {\n",
       "        text-align: right;\n",
       "    }\n",
       "</style>\n",
       "<table border=\"1\" class=\"dataframe\">\n",
       "  <thead>\n",
       "    <tr style=\"text-align: right;\">\n",
       "      <th></th>\n",
       "      <th>Income Group</th>\n",
       "      <th>SNAP</th>\n",
       "      <th>market_count</th>\n",
       "    </tr>\n",
       "  </thead>\n",
       "  <tbody>\n",
       "    <tr>\n",
       "      <th>0</th>\n",
       "      <td>Low Income</td>\n",
       "      <td>Y</td>\n",
       "      <td>809</td>\n",
       "    </tr>\n",
       "    <tr>\n",
       "      <th>1</th>\n",
       "      <td>Medium Income</td>\n",
       "      <td>Y</td>\n",
       "      <td>1438</td>\n",
       "    </tr>\n",
       "    <tr>\n",
       "      <th>2</th>\n",
       "      <td>High Income</td>\n",
       "      <td>Y</td>\n",
       "      <td>568</td>\n",
       "    </tr>\n",
       "  </tbody>\n",
       "</table>\n",
       "</div>"
      ],
      "text/plain": [
       "    Income Group SNAP  market_count\n",
       "0     Low Income    Y           809\n",
       "1  Medium Income    Y          1438\n",
       "2    High Income    Y           568"
      ]
     },
     "execution_count": 116,
     "metadata": {},
     "output_type": "execute_result"
    }
   ],
   "source": [
    "market_by_income_df2 = farm_markets_credit.groupby([\"Income Group\",\"SNAP\"])[\"MarketName\"].count().reset_index(name=\"market_count\")\n",
    "market_by_income_df2"
   ]
  },
  {
   "cell_type": "code",
   "execution_count": 117,
   "metadata": {},
   "outputs": [
    {
     "data": {
      "text/plain": [
       "0     809\n",
       "1    1438\n",
       "2     568\n",
       "Name: market_count, dtype: int64"
      ]
     },
     "execution_count": 117,
     "metadata": {},
     "output_type": "execute_result"
    }
   ],
   "source": [
    "snap_group=market_by_income_df2[\"market_count\"]\n",
    "snap_group"
   ]
  },
  {
   "cell_type": "code",
   "execution_count": 118,
   "metadata": {},
   "outputs": [],
   "source": [
    "farm_markets_credit=farm_markets_visual.loc[farm_markets_visual[\"SFMNP\"] =='Y']"
   ]
  },
  {
   "cell_type": "code",
   "execution_count": 119,
   "metadata": {},
   "outputs": [
    {
     "data": {
      "text/html": [
       "<div>\n",
       "<style scoped>\n",
       "    .dataframe tbody tr th:only-of-type {\n",
       "        vertical-align: middle;\n",
       "    }\n",
       "\n",
       "    .dataframe tbody tr th {\n",
       "        vertical-align: top;\n",
       "    }\n",
       "\n",
       "    .dataframe thead th {\n",
       "        text-align: right;\n",
       "    }\n",
       "</style>\n",
       "<table border=\"1\" class=\"dataframe\">\n",
       "  <thead>\n",
       "    <tr style=\"text-align: right;\">\n",
       "      <th></th>\n",
       "      <th>Income Group</th>\n",
       "      <th>SFMNP</th>\n",
       "      <th>market_count</th>\n",
       "    </tr>\n",
       "  </thead>\n",
       "  <tbody>\n",
       "    <tr>\n",
       "      <th>0</th>\n",
       "      <td>Low Income</td>\n",
       "      <td>Y</td>\n",
       "      <td>764</td>\n",
       "    </tr>\n",
       "    <tr>\n",
       "      <th>1</th>\n",
       "      <td>Medium Income</td>\n",
       "      <td>Y</td>\n",
       "      <td>1412</td>\n",
       "    </tr>\n",
       "    <tr>\n",
       "      <th>2</th>\n",
       "      <td>High Income</td>\n",
       "      <td>Y</td>\n",
       "      <td>564</td>\n",
       "    </tr>\n",
       "  </tbody>\n",
       "</table>\n",
       "</div>"
      ],
      "text/plain": [
       "    Income Group SFMNP  market_count\n",
       "0     Low Income     Y           764\n",
       "1  Medium Income     Y          1412\n",
       "2    High Income     Y           564"
      ]
     },
     "execution_count": 119,
     "metadata": {},
     "output_type": "execute_result"
    }
   ],
   "source": [
    "market_by_income_df2 = farm_markets_credit.groupby([\"Income Group\",\"SFMNP\"])[\"MarketName\"].count().reset_index(name=\"market_count\")\n",
    "market_by_income_df2"
   ]
  },
  {
   "cell_type": "code",
   "execution_count": 120,
   "metadata": {},
   "outputs": [
    {
     "data": {
      "text/plain": [
       "0     764\n",
       "1    1412\n",
       "2     564\n",
       "Name: market_count, dtype: int64"
      ]
     },
     "execution_count": 120,
     "metadata": {},
     "output_type": "execute_result"
    }
   ],
   "source": [
    "sfmnp_group=market_by_income_df2[\"market_count\"]\n",
    "sfmnp_group"
   ]
  },
  {
   "cell_type": "code",
   "execution_count": 121,
   "metadata": {},
   "outputs": [],
   "source": [
    "farm_markets_credit=farm_markets_visual.loc[farm_markets_visual[\"WICcash\"] =='Y']\n"
   ]
  },
  {
   "cell_type": "code",
   "execution_count": 122,
   "metadata": {},
   "outputs": [
    {
     "data": {
      "text/html": [
       "<div>\n",
       "<style scoped>\n",
       "    .dataframe tbody tr th:only-of-type {\n",
       "        vertical-align: middle;\n",
       "    }\n",
       "\n",
       "    .dataframe tbody tr th {\n",
       "        vertical-align: top;\n",
       "    }\n",
       "\n",
       "    .dataframe thead th {\n",
       "        text-align: right;\n",
       "    }\n",
       "</style>\n",
       "<table border=\"1\" class=\"dataframe\">\n",
       "  <thead>\n",
       "    <tr style=\"text-align: right;\">\n",
       "      <th></th>\n",
       "      <th>Income Group</th>\n",
       "      <th>WICcash</th>\n",
       "      <th>market_count</th>\n",
       "    </tr>\n",
       "  </thead>\n",
       "  <tbody>\n",
       "    <tr>\n",
       "      <th>0</th>\n",
       "      <td>Low Income</td>\n",
       "      <td>Y</td>\n",
       "      <td>365</td>\n",
       "    </tr>\n",
       "    <tr>\n",
       "      <th>1</th>\n",
       "      <td>Medium Income</td>\n",
       "      <td>Y</td>\n",
       "      <td>663</td>\n",
       "    </tr>\n",
       "    <tr>\n",
       "      <th>2</th>\n",
       "      <td>High Income</td>\n",
       "      <td>Y</td>\n",
       "      <td>270</td>\n",
       "    </tr>\n",
       "  </tbody>\n",
       "</table>\n",
       "</div>"
      ],
      "text/plain": [
       "    Income Group WICcash  market_count\n",
       "0     Low Income       Y           365\n",
       "1  Medium Income       Y           663\n",
       "2    High Income       Y           270"
      ]
     },
     "execution_count": 122,
     "metadata": {},
     "output_type": "execute_result"
    }
   ],
   "source": [
    "market_by_income_df2 = farm_markets_credit.groupby([\"Income Group\",\"WICcash\"])[\"MarketName\"].count().reset_index(name=\"market_count\")\n",
    "market_by_income_df2"
   ]
  },
  {
   "cell_type": "code",
   "execution_count": 123,
   "metadata": {},
   "outputs": [
    {
     "data": {
      "text/plain": [
       "0    365\n",
       "1    663\n",
       "2    270\n",
       "Name: market_count, dtype: int64"
      ]
     },
     "execution_count": 123,
     "metadata": {},
     "output_type": "execute_result"
    }
   ],
   "source": [
    "WICcash_group=market_by_income_df2[\"market_count\"]\n",
    "WICcash_group"
   ]
  },
  {
   "cell_type": "code",
   "execution_count": 124,
   "metadata": {},
   "outputs": [],
   "source": [
    "# set width of bar\n",
    "barWidth = 0.15\n",
    "\n",
    "# set height of bar\n",
    "market1 = [x1 for x1 in credit_group]\n",
    "market2 = [x2 for x2 in wic_group]\n",
    "market3 = [x3 for x3 in sfmnp_group]\n",
    "market4 = [x4 for x4 in WICcash_group]\n",
    "market5 = [x5 for x5 in snap_group]\n",
    "\n",
    "# Set position of bar on X axis\n",
    "r1 = np.arange(len(market1))\n",
    "r2 = [x + barWidth for x in r1]\n",
    "r3 = [x + barWidth for x in r2]\n",
    "r4 = [x + barWidth for x in r3]\n",
    "r5 = [x + barWidth for x in r4]"
   ]
  },
  {
   "cell_type": "code",
   "execution_count": 135,
   "metadata": {},
   "outputs": [
    {
     "name": "stderr",
     "output_type": "stream",
     "text": [
      "/Users/mehrunnisha/anaconda3/envs/PythonData/lib/python3.6/site-packages/matplotlib/font_manager.py:1328: UserWarning: findfont: Font family ['normal'] not found. Falling back to DejaVu Sans\n",
      "  (prop.get_family(), self.defaultFamily[fontext]))\n"
     ]
    },
    {
     "data": {
      "image/png": "[encoded data removed]",
      "text/plain": [
       "<Figure size 1152x864 with 1 Axes>"
      ]
     },
     "metadata": {},
     "output_type": "display_data"
    }
   ],
   "source": [
    "group = farm_markets_visual[\"Income Group\"].unique()\n",
    "\n",
    "plt.figure(figsize =(16,12))\n",
    "\n",
    "#plt.legend(loc=\"best\",title=\"group\")\n",
    "# Make the plot\n",
    "plt.bar(r1, market1, color='#619dbf', width=barWidth, edgecolor='white', label='Credit')\n",
    "plt.bar(r2, market2, color='#c199d9', width=barWidth, edgecolor='white', label='WIC')\n",
    "plt.bar(r3, market3, color='#f4d305', width=barWidth, edgecolor='white', label='SFMNP')\n",
    "plt.bar(r4, market3, color='#44d69b', width=barWidth, edgecolor='white', label='WICcash')\n",
    "plt.bar(r5, market3, color='#b5e1db', width=barWidth, edgecolor='white', label='SNAP')\n",
    "\n",
    "font = {\"family\":\"normal\",\n",
    "       \"weight\":\"normal\",\n",
    "       \"size\":14}\n",
    "plt.rc(\"font\", **font)\n",
    "\n",
    "#plt.xlabel('Income group', fontweight='bold')\n",
    "plt.legend(loc=\"best\",title=\"Payment Type\")\n",
    "\n",
    "plt.title(\"Farmers Market by Income Group and Payment Type\")\n",
    "plt.ylabel(\"Total Number of Farmers Market\")\n",
    "plt.xticks([r + barWidth for r in range(len(market1))], ['Low Income', 'Medium Income', 'High Income'])\n",
    "\n",
    "#plt.xticks(ticks, ['Low Income', 'Medium Income', 'High Income'])\n",
    "\n",
    "# Print our chart to the screen \n",
    "#plt.savefig(\"MarketByIncomeAndProduceType.png\")\n",
    "plt.show()\n",
    "\n"
   ]
  },
  {
   "cell_type": "code",
   "execution_count": null,
   "metadata": {},
   "outputs": [],
   "source": []
  },
  {
   "cell_type": "code",
   "execution_count": null,
   "metadata": {},
   "outputs": [],
   "source": []
  }
 ],
 "metadata": {
  "kernelspec": {
   "display_name": "Python [conda env:PythonData]",
   "language": "python",
   "name": "conda-env-PythonData-py"
  },
  "language_info": {
   "codemirror_mode": {
    "name": "ipython",
    "version": 3
   },
   "file_extension": ".py",
   "mimetype": "text/x-python",
   "name": "python",
   "nbconvert_exporter": "python",
   "pygments_lexer": "ipython3",
   "version": "3.6.5"
  }
 },
 "nbformat": 4,
 "nbformat_minor": 2
}
